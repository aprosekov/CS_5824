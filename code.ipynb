{
 "cells": [
  {
   "cell_type": "code",
   "execution_count": 1,
   "metadata": {},
   "outputs": [],
   "source": [
    "import tensorflow as tf\n",
    "import numpy as np\n",
    "from tensorflow import keras\n",
    "from tensorflow.keras import layers\n",
    "from tensorflow.keras.models import Sequential\n"
   ]
  },
  {
   "cell_type": "code",
   "execution_count": 2,
   "metadata": {},
   "outputs": [],
   "source": [
    "color_mode = \"rgb\"\n",
    "number_colour_layers = 3\n",
    "image_size = (640, 640)\n",
    "image_shape = image_size + (number_colour_layers,)\n",
    "batch_size = 4\n",
    "img_width = 640\n",
    "img_height = 640\n",
    "training_data_path = \"Train/*\"\n",
    "test_data_path = \"Test\"\n",
    "SEED = 42"
   ]
  },
  {
   "cell_type": "code",
   "execution_count": 3,
   "metadata": {},
   "outputs": [
    {
     "name": "stdout",
     "output_type": "stream",
     "text": [
      "Found 23730 files belonging to 1 classes.\n"
     ]
    }
   ],
   "source": [
    "img_folder = \"GSVImages/\"\n",
    "\n",
    "imgs = tf.keras.preprocessing.image_dataset_from_directory(\n",
    "    img_folder, \n",
    "    batch_size=32, \n",
    "    image_size=(640,640),\n",
    "    labels = None,\n",
    ")\n",
    "paths = imgs.file_paths\n"
   ]
  },
  {
   "cell_type": "markdown",
   "metadata": {},
   "source": [
    "Code Chuck bellow removes bad images"
   ]
  },
  {
   "cell_type": "code",
   "execution_count": 4,
   "metadata": {},
   "outputs": [],
   "source": [
    "# from struct import unpack\n",
    "# from tqdm import tqdm\n",
    "# import os\n",
    "# import os.path as osp\n",
    "\n",
    "# marker_mapping = {\n",
    "#     0xffd8: \"Start of Image\",\n",
    "#     0xffe0: \"Application Default Header\",\n",
    "#     0xffdb: \"Quantization Table\",\n",
    "#     0xffc0: \"Start of Frame\",\n",
    "#     0xffc4: \"Define Huffman Table\",\n",
    "#     0xffda: \"Start of Scan\",\n",
    "#     0xffd9: \"End of Image\"\n",
    "# }\n",
    "\n",
    "\n",
    "# class JPEG:\n",
    "#     def __init__(self, image_file):\n",
    "#         with open(image_file, 'rb') as f:\n",
    "#             self.img_data = f.read()\n",
    "    \n",
    "#     def decode(self):\n",
    "#         data = self.img_data\n",
    "#         while(True):\n",
    "#             marker, = unpack(\">H\", data[0:2])\n",
    "#             # print(marker_mapping.get(marker))\n",
    "#             if marker == 0xffd8:\n",
    "#                 data = data[2:]\n",
    "#             elif marker == 0xffd9:\n",
    "#                 return\n",
    "#             elif marker == 0xffda:\n",
    "#                 data = data[-2:]\n",
    "#             else:\n",
    "#                 lenchunk, = unpack(\">H\", data[2:4])\n",
    "#                 data = data[2+lenchunk:]            \n",
    "#             if len(data)==0:\n",
    "#                 break        \n",
    "\n",
    "\n",
    "# bads = []\n",
    "# root_img = \"C:\\ML\"\n",
    "# for i in tqdm(paths):\n",
    "#   image = osp.join(root_img,i)\n",
    "#   image = JPEG(image) \n",
    "#   try:\n",
    "#     image.decode()   \n",
    "#   except:\n",
    "#     bads.append(i)\n",
    "\n",
    "\n",
    "# for name in bads:\n",
    "#   os.remove(osp.join(root_img,name))\n",
    "# print(bads)"
   ]
  },
  {
   "cell_type": "code",
   "execution_count": 5,
   "metadata": {},
   "outputs": [],
   "source": [
    "import pandas as pd\n",
    "df = pd.read_csv('Panoid_Heat_lable.csv')\n",
    "l = df['panoid'].apply(len)\n",
    "df['len'] = l\n",
    "df.drop(df.loc[df['len']!=22].index, inplace=True)\n"
   ]
  },
  {
   "cell_type": "code",
   "execution_count": 6,
   "metadata": {},
   "outputs": [],
   "source": [
    "pf = pd.DataFrame()\n",
    "pf['path'] = paths\n",
    "pf['temp'] = None\n"
   ]
  },
  {
   "cell_type": "code",
   "execution_count": 7,
   "metadata": {},
   "outputs": [],
   "source": [
    "for i in range(23730):\n",
    "    s = pf.iloc[i]['path'][11:33]\n",
    "    temp = df[df['panoid'] == s]['ht_ndx_c']\n",
    "    pf.at[i,'temp'] = temp.values[0]\n"
   ]
  },
  {
   "cell_type": "code",
   "execution_count": 8,
   "metadata": {},
   "outputs": [],
   "source": [
    "from sklearn.model_selection import train_test_split\n",
    "np.random.seed(123)\n",
    "train, test = train_test_split(pf, test_size=0.2)"
   ]
  },
  {
   "cell_type": "code",
   "execution_count": 79,
   "metadata": {},
   "outputs": [],
   "source": [
    "label = train['temp'].to_numpy().astype('float32')\n",
    "dataset = tf.data.Dataset.from_tensor_slices((train['path'],label ))\n",
    "label_test = test['temp'].to_numpy().astype('float32')\n",
    "dataset_test = tf.data.Dataset.from_tensor_slices((test['path'],label_test ))"
   ]
  },
  {
   "cell_type": "code",
   "execution_count": 80,
   "metadata": {},
   "outputs": [],
   "source": [
    "def _parse_function(filename, label):\n",
    "    image_string = tf.io.read_file(filename)\n",
    "    image_decoded = tf.image.decode_jpeg(image_string, channels=3)\n",
    "    image = tf.cast(image_decoded, tf.float32)\n",
    "    return image, label\n",
    "\n",
    "dataset = dataset.map(_parse_function)\n",
    "dataset = dataset.batch(2)\n",
    "dataset_test = dataset_test.map(_parse_function)\n",
    "dataset_test = dataset_test.batch(1)\n",
    "\n",
    "# step 4: create iterator and final input tensor\n",
    "iterator = iter(dataset)\n",
    "iterator_test = iter(dataset_test)"
   ]
  },
  {
   "cell_type": "code",
   "execution_count": 11,
   "metadata": {},
   "outputs": [],
   "source": [
    "from keras.models import Sequential\n",
    "from keras.layers import Dense\n",
    "from keras.wrappers.scikit_learn import KerasRegressor\n",
    "from sklearn.model_selection import cross_val_score\n",
    "from sklearn.model_selection import KFold\n",
    "from sklearn.preprocessing import StandardScaler\n",
    "from sklearn.pipeline import Pipeline"
   ]
  },
  {
   "cell_type": "code",
   "execution_count": 62,
   "metadata": {},
   "outputs": [],
   "source": [
    "# model = Sequential([\n",
    "#   layers.Rescaling(1./255, input_shape=(img_height, img_width, 3)),\n",
    "#   layers.Conv2D(16, 3, padding='same', activation='relu'),\n",
    "#   layers.MaxPooling2D(),\n",
    "#   layers.Dropout(.05),\n",
    "#   layers.Conv2D(32, 3, padding='same', activation='relu'),\n",
    "#   layers.MaxPooling2D(),\n",
    "#   layers.Conv2D(64, 3, padding='same', activation='relu'),\n",
    "#   layers.MaxPooling2D(),\n",
    "#   layers.Flatten(),\n",
    "#   layers.Dense(1, activation='linear'),\n",
    "# ])\n",
    "# opt = tf.keras.optimizers.SGD(learning_rate=0.01, momentum=0.9)\n",
    "\n",
    "# model.compile(loss='mean_squared_error')"
   ]
  },
  {
   "cell_type": "code",
   "execution_count": 46,
   "metadata": {},
   "outputs": [],
   "source": [
    "#load model and use that\n",
    "model = tf.keras.models.load_model(\"model\")"
   ]
  },
  {
   "cell_type": "code",
   "execution_count": 56,
   "metadata": {},
   "outputs": [
    {
     "name": "stdout",
     "output_type": "stream",
     "text": [
      "Model: \"sequential_4\"\n",
      "_________________________________________________________________\n",
      "Layer (type)                 Output Shape              Param #   \n",
      "=================================================================\n",
      "rescaling_4 (Rescaling)      (None, 640, 640, 3)       0         \n",
      "_________________________________________________________________\n",
      "conv2d_12 (Conv2D)           (None, 640, 640, 16)      448       \n",
      "_________________________________________________________________\n",
      "max_pooling2d_12 (MaxPooling (None, 320, 320, 16)      0         \n",
      "_________________________________________________________________\n",
      "dropout_4 (Dropout)          (None, 320, 320, 16)      0         \n",
      "_________________________________________________________________\n",
      "conv2d_13 (Conv2D)           (None, 320, 320, 32)      4640      \n",
      "_________________________________________________________________\n",
      "max_pooling2d_13 (MaxPooling (None, 160, 160, 32)      0         \n",
      "_________________________________________________________________\n",
      "conv2d_14 (Conv2D)           (None, 160, 160, 64)      18496     \n",
      "_________________________________________________________________\n",
      "max_pooling2d_14 (MaxPooling (None, 80, 80, 64)        0         \n",
      "_________________________________________________________________\n",
      "flatten_4 (Flatten)          (None, 409600)            0         \n",
      "_________________________________________________________________\n",
      "dense_4 (Dense)              (None, 1)                 409601    \n",
      "=================================================================\n",
      "Total params: 433,185\n",
      "Trainable params: 433,185\n",
      "Non-trainable params: 0\n",
      "_________________________________________________________________\n"
     ]
    }
   ],
   "source": [
    "model.summary()"
   ]
  },
  {
   "cell_type": "code",
   "execution_count": 63,
   "metadata": {},
   "outputs": [
    {
     "name": "stdout",
     "output_type": "stream",
     "text": [
      "Epoch 1/3\n",
      "9492/9492 [==============================] - 1273s 134ms/step - loss: 5.0239 - val_loss: 1.1315\n",
      "Epoch 2/3\n",
      "9492/9492 [==============================] - 1294s 136ms/step - loss: 1.3974 - val_loss: 1.0669\n",
      "Epoch 3/3\n",
      "9492/9492 [==============================] - 1295s 136ms/step - loss: 1.3538 - val_loss: 1.0454\n"
     ]
    }
   ],
   "source": [
    "epochs=3\n",
    "history = model.fit(\n",
    "  dataset,\n",
    "  validation_data=dataset_test,\n",
    "  epochs=epochs\n",
    ")"
   ]
  },
  {
   "cell_type": "code",
   "execution_count": 69,
   "metadata": {},
   "outputs": [
    {
     "data": {
      "text/plain": [
       "{'loss': [5.023896217346191, 1.3974019289016724, 1.3538473844528198],\n",
       " 'val_loss': [1.1315110921859741, 1.0669081211090088, 1.0454456806182861]}"
      ]
     },
     "execution_count": 69,
     "metadata": {},
     "output_type": "execute_result"
    }
   ],
   "source": [
    "#model.save('model')\n",
    "#np.save('my_history.npy',history.history)\n",
    "#model.evaluate(dataset_test)\n",
    "#hist=np.load('my_history.npy',allow_pickle='TRUE').item()"
   ]
  },
  {
   "cell_type": "code",
   "execution_count": 97,
   "metadata": {},
   "outputs": [
    {
     "data": {
      "image/png": "[encoded data removed]",
      "text/plain": [
       "<Figure size 432x288 with 1 Axes>"
      ]
     },
     "metadata": {
      "needs_background": "light"
     },
     "output_type": "display_data"
    }
   ],
   "source": [
    "import matplotlib.pyplot as plt\n",
    "plt.title('Loss')\n",
    "plt.plot(history.history['loss'], label='train')\n",
    "plt.plot(history.history['val_loss'], label='test')\n",
    "plt.xlabel('Epoch')\n",
    "plt.ylabel('Mean Square Error')\n",
    "plt.legend()\n",
    "plt.savefig(\"loss.png\", dpi = 800)"
   ]
  },
  {
   "cell_type": "code",
   "execution_count": 81,
   "metadata": {},
   "outputs": [],
   "source": [
    "output = pd.DataFrame()"
   ]
  },
  {
   "cell_type": "code",
   "execution_count": 88,
   "metadata": {},
   "outputs": [
    {
     "data": {
      "text/plain": [
       "count    4746.000000\n",
       "mean        0.086496\n",
       "std         1.018913\n",
       "min        -2.420740\n",
       "25%        -0.639650\n",
       "50%        -0.240363\n",
       "75%         0.801174\n",
       "max         2.941761\n",
       "Name: Difference, dtype: float64"
      ]
     },
     "execution_count": 88,
     "metadata": {},
     "output_type": "execute_result"
    }
   ],
   "source": [
    "for image, label in iterator_test:\n",
    "    pred = model.predict(image)\n",
    "    add = pd.DataFrame({'True':[float(label)] , 'Prediction': [float(pred)], 'Difference':[float(label-pred)]})\n",
    "    output = pd.concat([output,add], ignore_index=True)\n",
    "\n",
    "output.Difference.describe()"
   ]
  },
  {
   "cell_type": "code",
   "execution_count": 96,
   "metadata": {},
   "outputs": [
    {
     "data": {
      "image/png": "[encoded data removed]",
      "text/plain": [
       "<Figure size 432x288 with 1 Axes>"
      ]
     },
     "metadata": {
      "needs_background": "light"
     },
     "output_type": "display_data"
    }
   ],
   "source": [
    "output['Difference'].hist(bins = 25)\n",
    "plt.title(\"Distribution of difference between predicted and true temperatures\")\n",
    "plt.xlabel('Difference')\n",
    "plt.ylabel('Count')\n",
    "plt.savefig(\"Diff_Dist.png\", dpi = 800)\n"
   ]
  }
 ],
 "metadata": {
  "interpreter": {
   "hash": "91641b3beeb78b779d9e05bfa46b972b93d7bd45282eeec0d03b78c3155fd926"
  },
  "kernelspec": {
   "display_name": "Python 3.9.12 ('tf')",
   "language": "python",
   "name": "python3"
  },
  "language_info": {
   "codemirror_mode": {
    "name": "ipython",
    "version": 3
   },
   "file_extension": ".py",
   "mimetype": "text/x-python",
   "name": "python",
   "nbconvert_exporter": "python",
   "pygments_lexer": "ipython3",
   "version": "3.9.12"
  },
  "orig_nbformat": 4
 },
 "nbformat": 4,
 "nbformat_minor": 2
}
